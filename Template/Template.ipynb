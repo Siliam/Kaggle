{
 "cells": [
  {
   "cell_type": "markdown",
   "metadata": {},
   "source": [
    "# Read the data"
   ]
  },
  {
   "cell_type": "code",
   "execution_count": null,
   "metadata": {
    "_cell_guid": "b1076dfc-b9ad-4769-8c92-a6c4dae69d19",
    "_uuid": "8f2839f25d086af736a60e9eeb907d3b93b6e0e5",
    "execution": {
     "iopub.execute_input": "2023-08-07T21:31:43.562133Z",
     "iopub.status.busy": "2023-08-07T21:31:43.561589Z",
     "iopub.status.idle": "2023-08-07T21:31:43.587171Z",
     "shell.execute_reply": "2023-08-07T21:31:43.586349Z",
     "shell.execute_reply.started": "2023-08-07T21:31:43.562107Z"
    }
   },
   "outputs": [],
   "source": [
    "# This Python 3 environment comes with many helpful analytics libraries installed\n",
    "# It is defined by the kaggle/python Docker image: https://github.com/kaggle/docker-python\n",
    "# For example, here's several helpful packages to load\n",
    "\n",
    "import numpy as np # linear algebra\n",
    "import pandas as pd # data processing, CSV file I/O (e.g. pd.read_csv)\n",
    "\n",
    "# Input data files are available in the read-only \"../input/\" directory\n",
    "# For example, running this (by clicking run or pressing Shift+Enter) will list all files under the input directory\n",
    "\n",
    "import os\n",
    "for dirname, _, filenames in os.walk('input'):\n",
    "    for filename in filenames:\n",
    "        print(os.path.join(dirname, filename))\n",
    "\n",
    "# You can write up to 20GB to the current directory (/kaggle/working/) that gets preserved as output when you create a version using \"Save & Run All\" \n",
    "# You can also write temporary files to /kaggle/temp/, but they won't be saved outside of the current session"
   ]
  },
  {
   "cell_type": "code",
   "execution_count": null,
   "metadata": {
    "execution": {
     "iopub.execute_input": "2023-08-07T21:33:17.078621Z",
     "iopub.status.busy": "2023-08-07T21:33:17.078312Z",
     "iopub.status.idle": "2023-08-07T21:33:17.119485Z",
     "shell.execute_reply": "2023-08-07T21:33:17.118427Z",
     "shell.execute_reply.started": "2023-08-07T21:33:17.078598Z"
    }
   },
   "outputs": [],
   "source": [
    "train_data = pd.read_csv(\"input/train.csv\")\n",
    "train_data.head()"
   ]
  },
  {
   "cell_type": "code",
   "execution_count": null,
   "metadata": {
    "execution": {
     "iopub.execute_input": "2023-08-07T21:33:24.378568Z",
     "iopub.status.busy": "2023-08-07T21:33:24.378252Z",
     "iopub.status.idle": "2023-08-07T21:33:24.400363Z",
     "shell.execute_reply": "2023-08-07T21:33:24.399335Z",
     "shell.execute_reply.started": "2023-08-07T21:33:24.378545Z"
    }
   },
   "outputs": [],
   "source": [
    "test_data = pd.read_csv(\"input/test.csv\")\n",
    "test_data.head()"
   ]
  },
  {
   "cell_type": "markdown",
   "metadata": {},
   "source": [
    "# Explore the features"
   ]
  },
  {
   "cell_type": "code",
   "execution_count": null,
   "metadata": {
    "execution": {
     "iopub.execute_input": "2023-08-07T21:33:32.638667Z",
     "iopub.status.busy": "2023-08-07T21:33:32.638344Z",
     "iopub.status.idle": "2023-08-07T21:33:32.649291Z",
     "shell.execute_reply": "2023-08-07T21:33:32.648625Z",
     "shell.execute_reply.started": "2023-08-07T21:33:32.638626Z"
    }
   },
   "outputs": [],
   "source": [
    "train_data.describe()"
   ]
  },
  {
   "cell_type": "markdown",
   "metadata": {},
   "source": [
    "# Choose and train the model"
   ]
  },
  {
   "cell_type": "code",
   "execution_count": null,
   "metadata": {
    "execution": {
     "iopub.execute_input": "2023-08-07T21:33:48.779259Z",
     "iopub.status.busy": "2023-08-07T21:33:48.778914Z",
     "iopub.status.idle": "2023-08-07T21:33:49.711260Z",
     "shell.execute_reply": "2023-08-07T21:33:49.710368Z",
     "shell.execute_reply.started": "2023-08-07T21:33:48.779233Z"
    }
   },
   "outputs": [],
   "source": [
    "from sklearn.ensemble import RandomForestClassifier\n",
    "\n",
    "y = train_data[\"y\"]\n",
    "\n",
    "features = [\"f1\", \"f2\"]\n",
    "X = pd.get_dummies(train_data[features])\n",
    "X_test = pd.get_dummies(test_data[features])\n",
    "\n",
    "model = RandomForestClassifier(n_estimators=100, max_depth=5, random_state=1)\n",
    "model.fit(X, y)"
   ]
  },
  {
   "cell_type": "markdown",
   "metadata": {},
   "source": [
    "# Generate the output"
   ]
  },
  {
   "cell_type": "code",
   "execution_count": null,
   "metadata": {},
   "outputs": [],
   "source": [
    "predictions = model.predict(X_test)\n",
    "output = pd.DataFrame({'PassengerId': test_data.PassengerId, 'Survived': predictions})\n",
    "output.to_csv('submission.csv', index=False)\n",
    "print(\"Your submission was successfully saved!\")"
   ]
  }
 ],
 "metadata": {
  "kernelspec": {
   "display_name": "Python 3 (ipykernel)",
   "language": "python",
   "name": "python3"
  },
  "language_info": {
   "codemirror_mode": {
    "name": "ipython",
    "version": 3
   },
   "file_extension": ".py",
   "mimetype": "text/x-python",
   "name": "python",
   "nbconvert_exporter": "python",
   "pygments_lexer": "ipython3",
   "version": "3.10.12"
  }
 },
 "nbformat": 4,
 "nbformat_minor": 4
}
