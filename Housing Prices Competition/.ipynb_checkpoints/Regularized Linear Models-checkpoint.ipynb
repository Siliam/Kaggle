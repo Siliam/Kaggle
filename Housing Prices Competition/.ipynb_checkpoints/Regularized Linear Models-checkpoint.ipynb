{
 "cells": [
  {
   "cell_type": "markdown",
   "id": "6229c24a",
   "metadata": {},
   "source": [
    "Source: https://www.kaggle.com/code/yehyangwu/regularized-linear-models"
   ]
  },
  {
   "cell_type": "markdown",
   "id": "4d654bf7",
   "metadata": {
    "_cell_guid": "e6335977-1dcb-a5bc-4856-184dd7bce3f9",
    "papermill": {
     "duration": 0.011341,
     "end_time": "2023-08-11T01:56:44.131893",
     "exception": false,
     "start_time": "2023-08-11T01:56:44.120552",
     "status": "completed"
    },
    "tags": []
   },
   "source": [
    "## Trying out a linear model: \n",
    "\n",
    "Author: Alexandru Papiu ([Blog](https://apapiu.github.io/), [GitHub](https://github.com/apapiu))\n",
    " \n",
    "If you use parts of this notebook in your own scripts, please give some sort of credit (for example link back to this). Thanks!\n",
    "\n",
    "\n",
    "There have been a few [great](https://www.kaggle.com/comartel/house-prices-advanced-regression-techniques/house-price-xgboost-starter/run/348739)  [scripts](https://www.kaggle.com/zoupet/house-prices-advanced-regression-techniques/xgboost-10-kfolds-with-scikit-learn/run/357561) on [xgboost](https://www.kaggle.com/tadepalli/house-prices-advanced-regression-techniques/xgboost-with-n-trees-autostop-0-12638/run/353049) already so I'd figured I'd try something simpler: a regularized linear regression model. Surprisingly it does really well with very little feature engineering. The key point is to to log_transform the numeric variables since most of them are skewed."
   ]
  },
  {
   "cell_type": "code",
   "execution_count": 2,
   "id": "f8ae9d8f",
   "metadata": {
    "_cell_guid": "0d706811-b70c-aeab-a78b-3c7abd9978d3",
    "execution": {
     "iopub.execute_input": "2023-08-11T01:56:44.155038Z",
     "iopub.status.busy": "2023-08-11T01:56:44.153870Z",
     "iopub.status.idle": "2023-08-11T01:56:45.368881Z",
     "shell.execute_reply": "2023-08-11T01:56:45.367622Z"
    },
    "papermill": {
     "duration": 1.230219,
     "end_time": "2023-08-11T01:56:45.372538",
     "exception": false,
     "start_time": "2023-08-11T01:56:44.142319",
     "status": "completed"
    },
    "tags": []
   },
   "outputs": [
    {
     "name": "stderr",
     "output_type": "stream",
     "text": [
      "/tmp/ipykernel_75066/2916246244.py:8: DeprecationWarning: Please use `pearsonr` from the `scipy.stats` namespace, the `scipy.stats.stats` namespace is deprecated.\n",
      "  from scipy.stats.stats import pearsonr\n"
     ]
    }
   ],
   "source": [
    "import pandas as pd\n",
    "import numpy as np\n",
    "import seaborn as sns\n",
    "import matplotlib\n",
    "\n",
    "import matplotlib.pyplot as plt\n",
    "from scipy.stats import skew\n",
    "from scipy.stats.stats import pearsonr\n",
    "\n",
    "\n",
    "%config InlineBackend.figure_format = 'retina' #set 'png' here when working on notebook\n",
    "%matplotlib inline"
   ]
  },
  {
   "cell_type": "code",
   "execution_count": 4,
   "id": "908d9a95",
   "metadata": {
    "_cell_guid": "603292c1-44b7-d72a-5468-e6782f311603",
    "execution": {
     "iopub.execute_input": "2023-08-11T01:56:45.396848Z",
     "iopub.status.busy": "2023-08-11T01:56:45.395762Z",
     "iopub.status.idle": "2023-08-11T01:56:45.473450Z",
     "shell.execute_reply": "2023-08-11T01:56:45.472468Z"
    },
    "papermill": {
     "duration": 0.093419,
     "end_time": "2023-08-11T01:56:45.476098",
     "exception": false,
     "start_time": "2023-08-11T01:56:45.382679",
     "status": "completed"
    },
    "tags": []
   },
   "outputs": [],
   "source": [
    "train = pd.read_csv(\"input/train.csv\")\n",
    "test = pd.read_csv(\"input/test.csv\")"
   ]
  },
  {
   "cell_type": "code",
   "execution_count": 5,
   "id": "451a1a4f",
   "metadata": {
    "_cell_guid": "d646bb1b-56c4-9b45-d5d4-27095f61b1c0",
    "execution": {
     "iopub.execute_input": "2023-08-11T01:56:45.498370Z",
     "iopub.status.busy": "2023-08-11T01:56:45.497143Z",
     "iopub.status.idle": "2023-08-11T01:56:45.535998Z",
     "shell.execute_reply": "2023-08-11T01:56:45.534650Z"
    },
    "papermill": {
     "duration": 0.053857,
     "end_time": "2023-08-11T01:56:45.539769",
     "exception": false,
     "start_time": "2023-08-11T01:56:45.485912",
     "status": "completed"
    },
    "tags": []
   },
   "outputs": [
    {
     "data": {
      "text/html": [
       "<div>\n",
       "<style scoped>\n",
       "    .dataframe tbody tr th:only-of-type {\n",
       "        vertical-align: middle;\n",
       "    }\n",
       "\n",
       "    .dataframe tbody tr th {\n",
       "        vertical-align: top;\n",
       "    }\n",
       "\n",
       "    .dataframe thead th {\n",
       "        text-align: right;\n",
       "    }\n",
       "</style>\n",
       "<table border=\"1\" class=\"dataframe\">\n",
       "  <thead>\n",
       "    <tr style=\"text-align: right;\">\n",
       "      <th></th>\n",
       "      <th>Id</th>\n",
       "      <th>MSSubClass</th>\n",
       "      <th>MSZoning</th>\n",
       "      <th>LotFrontage</th>\n",
       "      <th>LotArea</th>\n",
       "      <th>Street</th>\n",
       "      <th>Alley</th>\n",
       "      <th>LotShape</th>\n",
       "      <th>LandContour</th>\n",
       "      <th>Utilities</th>\n",
       "      <th>...</th>\n",
       "      <th>PoolArea</th>\n",
       "      <th>PoolQC</th>\n",
       "      <th>Fence</th>\n",
       "      <th>MiscFeature</th>\n",
       "      <th>MiscVal</th>\n",
       "      <th>MoSold</th>\n",
       "      <th>YrSold</th>\n",
       "      <th>SaleType</th>\n",
       "      <th>SaleCondition</th>\n",
       "      <th>SalePrice</th>\n",
       "    </tr>\n",
       "  </thead>\n",
       "  <tbody>\n",
       "    <tr>\n",
       "      <th>0</th>\n",
       "      <td>1</td>\n",
       "      <td>60</td>\n",
       "      <td>RL</td>\n",
       "      <td>65.0</td>\n",
       "      <td>8450</td>\n",
       "      <td>Pave</td>\n",
       "      <td>NaN</td>\n",
       "      <td>Reg</td>\n",
       "      <td>Lvl</td>\n",
       "      <td>AllPub</td>\n",
       "      <td>...</td>\n",
       "      <td>0</td>\n",
       "      <td>NaN</td>\n",
       "      <td>NaN</td>\n",
       "      <td>NaN</td>\n",
       "      <td>0</td>\n",
       "      <td>2</td>\n",
       "      <td>2008</td>\n",
       "      <td>WD</td>\n",
       "      <td>Normal</td>\n",
       "      <td>208500</td>\n",
       "    </tr>\n",
       "    <tr>\n",
       "      <th>1</th>\n",
       "      <td>2</td>\n",
       "      <td>20</td>\n",
       "      <td>RL</td>\n",
       "      <td>80.0</td>\n",
       "      <td>9600</td>\n",
       "      <td>Pave</td>\n",
       "      <td>NaN</td>\n",
       "      <td>Reg</td>\n",
       "      <td>Lvl</td>\n",
       "      <td>AllPub</td>\n",
       "      <td>...</td>\n",
       "      <td>0</td>\n",
       "      <td>NaN</td>\n",
       "      <td>NaN</td>\n",
       "      <td>NaN</td>\n",
       "      <td>0</td>\n",
       "      <td>5</td>\n",
       "      <td>2007</td>\n",
       "      <td>WD</td>\n",
       "      <td>Normal</td>\n",
       "      <td>181500</td>\n",
       "    </tr>\n",
       "    <tr>\n",
       "      <th>2</th>\n",
       "      <td>3</td>\n",
       "      <td>60</td>\n",
       "      <td>RL</td>\n",
       "      <td>68.0</td>\n",
       "      <td>11250</td>\n",
       "      <td>Pave</td>\n",
       "      <td>NaN</td>\n",
       "      <td>IR1</td>\n",
       "      <td>Lvl</td>\n",
       "      <td>AllPub</td>\n",
       "      <td>...</td>\n",
       "      <td>0</td>\n",
       "      <td>NaN</td>\n",
       "      <td>NaN</td>\n",
       "      <td>NaN</td>\n",
       "      <td>0</td>\n",
       "      <td>9</td>\n",
       "      <td>2008</td>\n",
       "      <td>WD</td>\n",
       "      <td>Normal</td>\n",
       "      <td>223500</td>\n",
       "    </tr>\n",
       "    <tr>\n",
       "      <th>3</th>\n",
       "      <td>4</td>\n",
       "      <td>70</td>\n",
       "      <td>RL</td>\n",
       "      <td>60.0</td>\n",
       "      <td>9550</td>\n",
       "      <td>Pave</td>\n",
       "      <td>NaN</td>\n",
       "      <td>IR1</td>\n",
       "      <td>Lvl</td>\n",
       "      <td>AllPub</td>\n",
       "      <td>...</td>\n",
       "      <td>0</td>\n",
       "      <td>NaN</td>\n",
       "      <td>NaN</td>\n",
       "      <td>NaN</td>\n",
       "      <td>0</td>\n",
       "      <td>2</td>\n",
       "      <td>2006</td>\n",
       "      <td>WD</td>\n",
       "      <td>Abnorml</td>\n",
       "      <td>140000</td>\n",
       "    </tr>\n",
       "    <tr>\n",
       "      <th>4</th>\n",
       "      <td>5</td>\n",
       "      <td>60</td>\n",
       "      <td>RL</td>\n",
       "      <td>84.0</td>\n",
       "      <td>14260</td>\n",
       "      <td>Pave</td>\n",
       "      <td>NaN</td>\n",
       "      <td>IR1</td>\n",
       "      <td>Lvl</td>\n",
       "      <td>AllPub</td>\n",
       "      <td>...</td>\n",
       "      <td>0</td>\n",
       "      <td>NaN</td>\n",
       "      <td>NaN</td>\n",
       "      <td>NaN</td>\n",
       "      <td>0</td>\n",
       "      <td>12</td>\n",
       "      <td>2008</td>\n",
       "      <td>WD</td>\n",
       "      <td>Normal</td>\n",
       "      <td>250000</td>\n",
       "    </tr>\n",
       "  </tbody>\n",
       "</table>\n",
       "<p>5 rows × 81 columns</p>\n",
       "</div>"
      ],
      "text/plain": [
       "   Id  MSSubClass MSZoning  LotFrontage  LotArea Street Alley LotShape  \\\n",
       "0   1          60       RL         65.0     8450   Pave   NaN      Reg   \n",
       "1   2          20       RL         80.0     9600   Pave   NaN      Reg   \n",
       "2   3          60       RL         68.0    11250   Pave   NaN      IR1   \n",
       "3   4          70       RL         60.0     9550   Pave   NaN      IR1   \n",
       "4   5          60       RL         84.0    14260   Pave   NaN      IR1   \n",
       "\n",
       "  LandContour Utilities  ... PoolArea PoolQC Fence MiscFeature MiscVal MoSold  \\\n",
       "0         Lvl    AllPub  ...        0    NaN   NaN         NaN       0      2   \n",
       "1         Lvl    AllPub  ...        0    NaN   NaN         NaN       0      5   \n",
       "2         Lvl    AllPub  ...        0    NaN   NaN         NaN       0      9   \n",
       "3         Lvl    AllPub  ...        0    NaN   NaN         NaN       0      2   \n",
       "4         Lvl    AllPub  ...        0    NaN   NaN         NaN       0     12   \n",
       "\n",
       "  YrSold  SaleType  SaleCondition  SalePrice  \n",
       "0   2008        WD         Normal     208500  \n",
       "1   2007        WD         Normal     181500  \n",
       "2   2008        WD         Normal     223500  \n",
       "3   2006        WD        Abnorml     140000  \n",
       "4   2008        WD         Normal     250000  \n",
       "\n",
       "[5 rows x 81 columns]"
      ]
     },
     "execution_count": 5,
     "metadata": {},
     "output_type": "execute_result"
    }
   ],
   "source": [
    "train.head()"
   ]
  },
  {
   "cell_type": "code",
   "execution_count": 6,
   "id": "109ef335",
   "metadata": {
    "_cell_guid": "cb2d88d7-7f76-4b04-d28b-d2c315ae4346",
    "execution": {
     "iopub.execute_input": "2023-08-11T01:56:45.561627Z",
     "iopub.status.busy": "2023-08-11T01:56:45.561183Z",
     "iopub.status.idle": "2023-08-11T01:56:45.587248Z",
     "shell.execute_reply": "2023-08-11T01:56:45.586016Z"
    },
    "papermill": {
     "duration": 0.040548,
     "end_time": "2023-08-11T01:56:45.590467",
     "exception": false,
     "start_time": "2023-08-11T01:56:45.549919",
     "status": "completed"
    },
    "tags": []
   },
   "outputs": [],
   "source": [
    "all_data = pd.concat((train.loc[:,'MSSubClass':'SaleCondition'],\n",
    "                      test.loc[:,'MSSubClass':'SaleCondition']))"
   ]
  },
  {
   "cell_type": "markdown",
   "id": "d72836cc",
   "metadata": {
    "_cell_guid": "29fa13df-61e8-b0c2-b3a7-ea92bffd4396",
    "papermill": {
     "duration": 0.009883,
     "end_time": "2023-08-11T01:56:45.610691",
     "exception": false,
     "start_time": "2023-08-11T01:56:45.600808",
     "status": "completed"
    },
    "tags": []
   },
   "source": [
    "###Data preprocessing: \n",
    "We're not going to do anything fancy here: \n",
    " \n",
    "- First I'll transform the skewed numeric features by taking log(feature + 1) - this will make the features more normal    \n",
    "- Create Dummy variables for the categorical features    \n",
    "- Replace the numeric missing values (NaN's) with the mean of their respective columns"
   ]
  },
  {
   "cell_type": "code",
   "execution_count": 7,
   "id": "52d0c21a",
   "metadata": {
    "_cell_guid": "9b5a3e5b-f683-3fd2-7269-4068975bbe42",
    "execution": {
     "iopub.execute_input": "2023-08-11T01:56:45.632965Z",
     "iopub.status.busy": "2023-08-11T01:56:45.632542Z",
     "iopub.status.idle": "2023-08-11T01:56:46.237873Z",
     "shell.execute_reply": "2023-08-11T01:56:46.236555Z"
    },
    "papermill": {
     "duration": 0.62078,
     "end_time": "2023-08-11T01:56:46.241689",
     "exception": false,
     "start_time": "2023-08-11T01:56:45.620909",
     "status": "completed"
    },
    "tags": []
   },
   "outputs": [
    {
     "data": {
      "text/plain": [
       "array([[<AxesSubplot:title={'center':'price'}>,\n",
       "        <AxesSubplot:title={'center':'log(price + 1)'}>]], dtype=object)"
      ]
     },
     "execution_count": 7,
     "metadata": {},
     "output_type": "execute_result"
    },
    {
     "data": {
      "image/png": "[encoded data removed]",
      "text/plain": [
       "<Figure size 864x432 with 2 Axes>"
      ]
     },
     "metadata": {
      "image/png": {
       "height": 372,
       "width": 710
      },
      "needs_background": "light"
     },
     "output_type": "display_data"
    }
   ],
   "source": [
    "matplotlib.rcParams['figure.figsize'] = (12.0, 6.0)\n",
    "prices = pd.DataFrame({\"price\":train[\"SalePrice\"], \"log(price + 1)\":np.log1p(train[\"SalePrice\"])})\n",
    "prices.hist()"
   ]
  },
  {
   "cell_type": "code",
   "execution_count": 8,
   "id": "1f76a0e2",
   "metadata": {
    "_cell_guid": "4ed54771-95c4-00e7-b2cd-569d17862878",
    "execution": {
     "iopub.execute_input": "2023-08-11T01:56:46.267087Z",
     "iopub.status.busy": "2023-08-11T01:56:46.266636Z",
     "iopub.status.idle": "2023-08-11T01:56:46.300659Z",
     "shell.execute_reply": "2023-08-11T01:56:46.299393Z"
    },
    "papermill": {
     "duration": 0.049533,
     "end_time": "2023-08-11T01:56:46.303572",
     "exception": false,
     "start_time": "2023-08-11T01:56:46.254039",
     "status": "completed"
    },
    "tags": []
   },
   "outputs": [],
   "source": [
    "\n",
    "train[\"SalePrice\"] = np.log1p(train[\"SalePrice\"])\n",
    "\n",
    "\n",
    "numeric_feats = all_data.dtypes[all_data.dtypes != \"object\"].index\n",
    "\n",
    "skewed_feats = train[numeric_feats].apply(lambda x: skew(x.dropna())) #compute skewness\n",
    "skewed_feats = skewed_feats[skewed_feats > 0.75]\n",
    "skewed_feats = skewed_feats.index\n",
    "\n",
    "all_data[skewed_feats] = np.log1p(all_data[skewed_feats])"
   ]
  },
  {
   "cell_type": "code",
   "execution_count": 9,
   "id": "13ff04f6",
   "metadata": {
    "_cell_guid": "3854ab12-a4f3-4c88-fe6e-1fee08e18af2",
    "execution": {
     "iopub.execute_input": "2023-08-11T01:56:46.327691Z",
     "iopub.status.busy": "2023-08-11T01:56:46.327240Z",
     "iopub.status.idle": "2023-08-11T01:56:46.387471Z",
     "shell.execute_reply": "2023-08-11T01:56:46.386039Z"
    },
    "papermill": {
     "duration": 0.075881,
     "end_time": "2023-08-11T01:56:46.390531",
     "exception": false,
     "start_time": "2023-08-11T01:56:46.314650",
     "status": "completed"
    },
    "tags": []
   },
   "outputs": [],
   "source": [
    "all_data = pd.get_dummies(all_data)"
   ]
  },
  {
   "cell_type": "code",
   "execution_count": 10,
   "id": "0fe08ae5",
   "metadata": {
    "_cell_guid": "5d417300-0deb-3353-cabf-95f75af62678",
    "execution": {
     "iopub.execute_input": "2023-08-11T01:56:46.414297Z",
     "iopub.status.busy": "2023-08-11T01:56:46.413859Z",
     "iopub.status.idle": "2023-08-11T01:56:46.478856Z",
     "shell.execute_reply": "2023-08-11T01:56:46.477451Z"
    },
    "papermill": {
     "duration": 0.080674,
     "end_time": "2023-08-11T01:56:46.482110",
     "exception": false,
     "start_time": "2023-08-11T01:56:46.401436",
     "status": "completed"
    },
    "tags": []
   },
   "outputs": [],
   "source": [
    "\n",
    "all_data = all_data.fillna(all_data.mean())"
   ]
  },
  {
   "cell_type": "markdown",
   "id": "0745f146",
   "metadata": {
    "papermill": {
     "duration": 0.011092,
     "end_time": "2023-08-11T01:56:46.504301",
     "exception": false,
     "start_time": "2023-08-11T01:56:46.493209",
     "status": "completed"
    },
    "tags": []
   },
   "source": [
    "Note that above I use all the data to compute the mean value that is then used for imputation. This is a flawed approach since it introduces some minor data leakage. However I decided to leave it here like this to showcase some common mistakes we all make :)"
   ]
  },
  {
   "cell_type": "code",
   "execution_count": 11,
   "id": "0ffbba98",
   "metadata": {
    "_cell_guid": "fe687685-cdac-0a89-4d71-af2d11d87a81",
    "execution": {
     "iopub.execute_input": "2023-08-11T01:56:46.528788Z",
     "iopub.status.busy": "2023-08-11T01:56:46.528349Z",
     "iopub.status.idle": "2023-08-11T01:56:46.534276Z",
     "shell.execute_reply": "2023-08-11T01:56:46.533042Z"
    },
    "papermill": {
     "duration": 0.020936,
     "end_time": "2023-08-11T01:56:46.536687",
     "exception": false,
     "start_time": "2023-08-11T01:56:46.515751",
     "status": "completed"
    },
    "tags": []
   },
   "outputs": [],
   "source": [
    "\n",
    "X_train = all_data[:train.shape[0]]\n",
    "X_test = all_data[train.shape[0]:]\n",
    "y = train.SalePrice"
   ]
  },
  {
   "cell_type": "markdown",
   "id": "65fb2d00",
   "metadata": {
    "_cell_guid": "cc4e3014-23b7-2971-ddb0-f67b03f83558",
    "papermill": {
     "duration": 0.010945,
     "end_time": "2023-08-11T01:56:46.558824",
     "exception": false,
     "start_time": "2023-08-11T01:56:46.547879",
     "status": "completed"
    },
    "tags": []
   },
   "source": [
    "### Models\n",
    "\n",
    "Now we are going to use regularized linear regression models from the scikit learn module. I'm going to try both l_1(Lasso) and l_2(Ridge) regularization. I'll also define a function that returns the cross-validation rmse error so we can evaluate our models and pick the best tuning par"
   ]
  },
  {
   "cell_type": "code",
   "execution_count": 12,
   "id": "03926213",
   "metadata": {
    "_cell_guid": "82886739-eee6-5d7a-4be9-e1fe6ac059f1",
    "execution": {
     "iopub.execute_input": "2023-08-11T01:56:46.584375Z",
     "iopub.status.busy": "2023-08-11T01:56:46.583872Z",
     "iopub.status.idle": "2023-08-11T01:56:46.878749Z",
     "shell.execute_reply": "2023-08-11T01:56:46.877673Z"
    },
    "papermill": {
     "duration": 0.311675,
     "end_time": "2023-08-11T01:56:46.881505",
     "exception": false,
     "start_time": "2023-08-11T01:56:46.569830",
     "status": "completed"
    },
    "tags": []
   },
   "outputs": [],
   "source": [
    "from sklearn.linear_model import Ridge, RidgeCV, ElasticNet, LassoCV, LassoLarsCV\n",
    "from sklearn.model_selection import cross_val_score\n",
    "\n",
    "def rmse_cv(model):\n",
    "    rmse= np.sqrt(-cross_val_score(model, X_train, y, scoring=\"neg_mean_squared_error\", cv = 5))\n",
    "    return(rmse)"
   ]
  },
  {
   "cell_type": "code",
   "execution_count": 13,
   "id": "771e4633",
   "metadata": {
    "_cell_guid": "436ce6e8-917f-8c88-3d7b-245e82a1619f",
    "execution": {
     "iopub.execute_input": "2023-08-11T01:56:46.904884Z",
     "iopub.status.busy": "2023-08-11T01:56:46.904450Z",
     "iopub.status.idle": "2023-08-11T01:56:46.909938Z",
     "shell.execute_reply": "2023-08-11T01:56:46.908790Z"
    },
    "papermill": {
     "duration": 0.020051,
     "end_time": "2023-08-11T01:56:46.912548",
     "exception": false,
     "start_time": "2023-08-11T01:56:46.892497",
     "status": "completed"
    },
    "tags": []
   },
   "outputs": [],
   "source": [
    "model_ridge = Ridge()"
   ]
  },
  {
   "cell_type": "markdown",
   "id": "37e9766d",
   "metadata": {
    "_cell_guid": "69ff958c-dbbb-4750-3fb0-d0ac17ff6363",
    "papermill": {
     "duration": 0.010653,
     "end_time": "2023-08-11T01:56:46.934115",
     "exception": false,
     "start_time": "2023-08-11T01:56:46.923462",
     "status": "completed"
    },
    "tags": []
   },
   "source": [
    "The main tuning parameter for the Ridge model is alpha - a regularization parameter that measures how flexible our model is. The higher the regularization the less prone our model will be to overfit. However it will also lose flexibility and might not capture all of the signal in the data."
   ]
  },
  {
   "cell_type": "code",
   "execution_count": 14,
   "id": "1156d544",
   "metadata": {
    "_cell_guid": "f6b86166-f581-6e05-5274-d3d3516ebaf3",
    "execution": {
     "iopub.execute_input": "2023-08-11T01:56:46.957758Z",
     "iopub.status.busy": "2023-08-11T01:56:46.957344Z",
     "iopub.status.idle": "2023-08-11T01:56:49.725254Z",
     "shell.execute_reply": "2023-08-11T01:56:49.723930Z"
    },
    "papermill": {
     "duration": 2.784033,
     "end_time": "2023-08-11T01:56:49.729016",
     "exception": false,
     "start_time": "2023-08-11T01:56:46.944983",
     "status": "completed"
    },
    "tags": []
   },
   "outputs": [
    {
     "name": "stderr",
     "output_type": "stream",
     "text": [
      "/home/ismail/anaconda3/lib/python3.9/site-packages/sklearn/model_selection/_validation.py:372: FitFailedWarning: \n",
      "5 fits failed out of a total of 5.\n",
      "The score on these train-test partitions for these parameters will be set to nan.\n",
      "If these failures are not expected, you can try to debug them by setting error_score='raise'.\n",
      "\n",
      "Below are more details about the failures:\n",
      "--------------------------------------------------------------------------------\n",
      "5 fits failed with the following error:\n",
      "Traceback (most recent call last):\n",
      "  File \"/home/ismail/anaconda3/lib/python3.9/site-packages/sklearn/model_selection/_validation.py\", line 680, in _fit_and_score\n",
      "    estimator.fit(X_train, y_train, **fit_params)\n",
      "  File \"/home/ismail/anaconda3/lib/python3.9/site-packages/sklearn/linear_model/_ridge.py\", line 1011, in fit\n",
      "    return super().fit(X, y, sample_weight=sample_weight)\n",
      "  File \"/home/ismail/anaconda3/lib/python3.9/site-packages/sklearn/linear_model/_ridge.py\", line 782, in fit\n",
      "    self.coef_, self.n_iter_ = _ridge_regression(\n",
      "  File \"/home/ismail/anaconda3/lib/python3.9/site-packages/sklearn/linear_model/_ridge.py\", line 599, in _ridge_regression\n",
      "    coef = _solve_cholesky(X, y, alpha)\n",
      "  File \"/home/ismail/anaconda3/lib/python3.9/site-packages/sklearn/linear_model/_ridge.py\", line 157, in _solve_cholesky\n",
      "    return linalg.solve(A, Xy, sym_pos=True, overwrite_a=True).T\n",
      "TypeError: solve() got an unexpected keyword argument 'sym_pos'\n",
      "\n",
      "  warnings.warn(some_fits_failed_message, FitFailedWarning)\n",
      "/home/ismail/anaconda3/lib/python3.9/site-packages/sklearn/model_selection/_validation.py:372: FitFailedWarning: \n",
      "5 fits failed out of a total of 5.\n",
      "The score on these train-test partitions for these parameters will be set to nan.\n",
      "If these failures are not expected, you can try to debug them by setting error_score='raise'.\n",
      "\n",
      "Below are more details about the failures:\n",
      "--------------------------------------------------------------------------------\n",
      "5 fits failed with the following error:\n",
      "Traceback (most recent call last):\n",
      "  File \"/home/ismail/anaconda3/lib/python3.9/site-packages/sklearn/model_selection/_validation.py\", line 680, in _fit_and_score\n",
      "    estimator.fit(X_train, y_train, **fit_params)\n",
      "  File \"/home/ismail/anaconda3/lib/python3.9/site-packages/sklearn/linear_model/_ridge.py\", line 1011, in fit\n",
      "    return super().fit(X, y, sample_weight=sample_weight)\n",
      "  File \"/home/ismail/anaconda3/lib/python3.9/site-packages/sklearn/linear_model/_ridge.py\", line 782, in fit\n",
      "    self.coef_, self.n_iter_ = _ridge_regression(\n",
      "  File \"/home/ismail/anaconda3/lib/python3.9/site-packages/sklearn/linear_model/_ridge.py\", line 599, in _ridge_regression\n",
      "    coef = _solve_cholesky(X, y, alpha)\n",
      "  File \"/home/ismail/anaconda3/lib/python3.9/site-packages/sklearn/linear_model/_ridge.py\", line 157, in _solve_cholesky\n",
      "    return linalg.solve(A, Xy, sym_pos=True, overwrite_a=True).T\n",
      "TypeError: solve() got an unexpected keyword argument 'sym_pos'\n",
      "\n",
      "  warnings.warn(some_fits_failed_message, FitFailedWarning)\n",
      "/home/ismail/anaconda3/lib/python3.9/site-packages/sklearn/model_selection/_validation.py:372: FitFailedWarning: \n",
      "5 fits failed out of a total of 5.\n",
      "The score on these train-test partitions for these parameters will be set to nan.\n",
      "If these failures are not expected, you can try to debug them by setting error_score='raise'.\n",
      "\n",
      "Below are more details about the failures:\n",
      "--------------------------------------------------------------------------------\n",
      "5 fits failed with the following error:\n",
      "Traceback (most recent call last):\n",
      "  File \"/home/ismail/anaconda3/lib/python3.9/site-packages/sklearn/model_selection/_validation.py\", line 680, in _fit_and_score\n",
      "    estimator.fit(X_train, y_train, **fit_params)\n",
      "  File \"/home/ismail/anaconda3/lib/python3.9/site-packages/sklearn/linear_model/_ridge.py\", line 1011, in fit\n",
      "    return super().fit(X, y, sample_weight=sample_weight)\n",
      "  File \"/home/ismail/anaconda3/lib/python3.9/site-packages/sklearn/linear_model/_ridge.py\", line 782, in fit\n",
      "    self.coef_, self.n_iter_ = _ridge_regression(\n",
      "  File \"/home/ismail/anaconda3/lib/python3.9/site-packages/sklearn/linear_model/_ridge.py\", line 599, in _ridge_regression\n",
      "    coef = _solve_cholesky(X, y, alpha)\n",
      "  File \"/home/ismail/anaconda3/lib/python3.9/site-packages/sklearn/linear_model/_ridge.py\", line 157, in _solve_cholesky\n",
      "    return linalg.solve(A, Xy, sym_pos=True, overwrite_a=True).T\n",
      "TypeError: solve() got an unexpected keyword argument 'sym_pos'\n",
      "\n",
      "  warnings.warn(some_fits_failed_message, FitFailedWarning)\n",
      "/home/ismail/anaconda3/lib/python3.9/site-packages/sklearn/model_selection/_validation.py:372: FitFailedWarning: \n",
      "5 fits failed out of a total of 5.\n",
      "The score on these train-test partitions for these parameters will be set to nan.\n",
      "If these failures are not expected, you can try to debug them by setting error_score='raise'.\n",
      "\n",
      "Below are more details about the failures:\n",
      "--------------------------------------------------------------------------------\n",
      "5 fits failed with the following error:\n",
      "Traceback (most recent call last):\n",
      "  File \"/home/ismail/anaconda3/lib/python3.9/site-packages/sklearn/model_selection/_validation.py\", line 680, in _fit_and_score\n",
      "    estimator.fit(X_train, y_train, **fit_params)\n",
      "  File \"/home/ismail/anaconda3/lib/python3.9/site-packages/sklearn/linear_model/_ridge.py\", line 1011, in fit\n",
      "    return super().fit(X, y, sample_weight=sample_weight)\n",
      "  File \"/home/ismail/anaconda3/lib/python3.9/site-packages/sklearn/linear_model/_ridge.py\", line 782, in fit\n",
      "    self.coef_, self.n_iter_ = _ridge_regression(\n",
      "  File \"/home/ismail/anaconda3/lib/python3.9/site-packages/sklearn/linear_model/_ridge.py\", line 599, in _ridge_regression\n",
      "    coef = _solve_cholesky(X, y, alpha)\n",
      "  File \"/home/ismail/anaconda3/lib/python3.9/site-packages/sklearn/linear_model/_ridge.py\", line 157, in _solve_cholesky\n",
      "    return linalg.solve(A, Xy, sym_pos=True, overwrite_a=True).T\n",
      "TypeError: solve() got an unexpected keyword argument 'sym_pos'\n",
      "\n",
      "  warnings.warn(some_fits_failed_message, FitFailedWarning)\n",
      "/home/ismail/anaconda3/lib/python3.9/site-packages/sklearn/model_selection/_validation.py:372: FitFailedWarning: \n",
      "5 fits failed out of a total of 5.\n",
      "The score on these train-test partitions for these parameters will be set to nan.\n",
      "If these failures are not expected, you can try to debug them by setting error_score='raise'.\n",
      "\n",
      "Below are more details about the failures:\n",
      "--------------------------------------------------------------------------------\n",
      "5 fits failed with the following error:\n",
      "Traceback (most recent call last):\n",
      "  File \"/home/ismail/anaconda3/lib/python3.9/site-packages/sklearn/model_selection/_validation.py\", line 680, in _fit_and_score\n",
      "    estimator.fit(X_train, y_train, **fit_params)\n",
      "  File \"/home/ismail/anaconda3/lib/python3.9/site-packages/sklearn/linear_model/_ridge.py\", line 1011, in fit\n",
      "    return super().fit(X, y, sample_weight=sample_weight)\n",
      "  File \"/home/ismail/anaconda3/lib/python3.9/site-packages/sklearn/linear_model/_ridge.py\", line 782, in fit\n",
      "    self.coef_, self.n_iter_ = _ridge_regression(\n",
      "  File \"/home/ismail/anaconda3/lib/python3.9/site-packages/sklearn/linear_model/_ridge.py\", line 599, in _ridge_regression\n",
      "    coef = _solve_cholesky(X, y, alpha)\n",
      "  File \"/home/ismail/anaconda3/lib/python3.9/site-packages/sklearn/linear_model/_ridge.py\", line 157, in _solve_cholesky\n",
      "    return linalg.solve(A, Xy, sym_pos=True, overwrite_a=True).T\n",
      "TypeError: solve() got an unexpected keyword argument 'sym_pos'\n",
      "\n",
      "  warnings.warn(some_fits_failed_message, FitFailedWarning)\n",
      "/home/ismail/anaconda3/lib/python3.9/site-packages/sklearn/model_selection/_validation.py:372: FitFailedWarning: \n",
      "5 fits failed out of a total of 5.\n",
      "The score on these train-test partitions for these parameters will be set to nan.\n",
      "If these failures are not expected, you can try to debug them by setting error_score='raise'.\n",
      "\n",
      "Below are more details about the failures:\n",
      "--------------------------------------------------------------------------------\n",
      "5 fits failed with the following error:\n",
      "Traceback (most recent call last):\n",
      "  File \"/home/ismail/anaconda3/lib/python3.9/site-packages/sklearn/model_selection/_validation.py\", line 680, in _fit_and_score\n",
      "    estimator.fit(X_train, y_train, **fit_params)\n",
      "  File \"/home/ismail/anaconda3/lib/python3.9/site-packages/sklearn/linear_model/_ridge.py\", line 1011, in fit\n",
      "    return super().fit(X, y, sample_weight=sample_weight)\n",
      "  File \"/home/ismail/anaconda3/lib/python3.9/site-packages/sklearn/linear_model/_ridge.py\", line 782, in fit\n",
      "    self.coef_, self.n_iter_ = _ridge_regression(\n",
      "  File \"/home/ismail/anaconda3/lib/python3.9/site-packages/sklearn/linear_model/_ridge.py\", line 599, in _ridge_regression\n",
      "    coef = _solve_cholesky(X, y, alpha)\n",
      "  File \"/home/ismail/anaconda3/lib/python3.9/site-packages/sklearn/linear_model/_ridge.py\", line 157, in _solve_cholesky\n",
      "    return linalg.solve(A, Xy, sym_pos=True, overwrite_a=True).T\n",
      "TypeError: solve() got an unexpected keyword argument 'sym_pos'\n",
      "\n",
      "  warnings.warn(some_fits_failed_message, FitFailedWarning)\n",
      "/home/ismail/anaconda3/lib/python3.9/site-packages/sklearn/model_selection/_validation.py:372: FitFailedWarning: \n",
      "5 fits failed out of a total of 5.\n",
      "The score on these train-test partitions for these parameters will be set to nan.\n",
      "If these failures are not expected, you can try to debug them by setting error_score='raise'.\n",
      "\n",
      "Below are more details about the failures:\n",
      "--------------------------------------------------------------------------------\n",
      "5 fits failed with the following error:\n",
      "Traceback (most recent call last):\n",
      "  File \"/home/ismail/anaconda3/lib/python3.9/site-packages/sklearn/model_selection/_validation.py\", line 680, in _fit_and_score\n",
      "    estimator.fit(X_train, y_train, **fit_params)\n",
      "  File \"/home/ismail/anaconda3/lib/python3.9/site-packages/sklearn/linear_model/_ridge.py\", line 1011, in fit\n",
      "    return super().fit(X, y, sample_weight=sample_weight)\n",
      "  File \"/home/ismail/anaconda3/lib/python3.9/site-packages/sklearn/linear_model/_ridge.py\", line 782, in fit\n",
      "    self.coef_, self.n_iter_ = _ridge_regression(\n",
      "  File \"/home/ismail/anaconda3/lib/python3.9/site-packages/sklearn/linear_model/_ridge.py\", line 599, in _ridge_regression\n",
      "    coef = _solve_cholesky(X, y, alpha)\n",
      "  File \"/home/ismail/anaconda3/lib/python3.9/site-packages/sklearn/linear_model/_ridge.py\", line 157, in _solve_cholesky\n",
      "    return linalg.solve(A, Xy, sym_pos=True, overwrite_a=True).T\n",
      "TypeError: solve() got an unexpected keyword argument 'sym_pos'\n",
      "\n",
      "  warnings.warn(some_fits_failed_message, FitFailedWarning)\n"
     ]
    },
    {
     "name": "stderr",
     "output_type": "stream",
     "text": [
      "/home/ismail/anaconda3/lib/python3.9/site-packages/sklearn/model_selection/_validation.py:372: FitFailedWarning: \n",
      "5 fits failed out of a total of 5.\n",
      "The score on these train-test partitions for these parameters will be set to nan.\n",
      "If these failures are not expected, you can try to debug them by setting error_score='raise'.\n",
      "\n",
      "Below are more details about the failures:\n",
      "--------------------------------------------------------------------------------\n",
      "5 fits failed with the following error:\n",
      "Traceback (most recent call last):\n",
      "  File \"/home/ismail/anaconda3/lib/python3.9/site-packages/sklearn/model_selection/_validation.py\", line 680, in _fit_and_score\n",
      "    estimator.fit(X_train, y_train, **fit_params)\n",
      "  File \"/home/ismail/anaconda3/lib/python3.9/site-packages/sklearn/linear_model/_ridge.py\", line 1011, in fit\n",
      "    return super().fit(X, y, sample_weight=sample_weight)\n",
      "  File \"/home/ismail/anaconda3/lib/python3.9/site-packages/sklearn/linear_model/_ridge.py\", line 782, in fit\n",
      "    self.coef_, self.n_iter_ = _ridge_regression(\n",
      "  File \"/home/ismail/anaconda3/lib/python3.9/site-packages/sklearn/linear_model/_ridge.py\", line 599, in _ridge_regression\n",
      "    coef = _solve_cholesky(X, y, alpha)\n",
      "  File \"/home/ismail/anaconda3/lib/python3.9/site-packages/sklearn/linear_model/_ridge.py\", line 157, in _solve_cholesky\n",
      "    return linalg.solve(A, Xy, sym_pos=True, overwrite_a=True).T\n",
      "TypeError: solve() got an unexpected keyword argument 'sym_pos'\n",
      "\n",
      "  warnings.warn(some_fits_failed_message, FitFailedWarning)\n",
      "/home/ismail/anaconda3/lib/python3.9/site-packages/sklearn/model_selection/_validation.py:372: FitFailedWarning: \n",
      "5 fits failed out of a total of 5.\n",
      "The score on these train-test partitions for these parameters will be set to nan.\n",
      "If these failures are not expected, you can try to debug them by setting error_score='raise'.\n",
      "\n",
      "Below are more details about the failures:\n",
      "--------------------------------------------------------------------------------\n",
      "5 fits failed with the following error:\n",
      "Traceback (most recent call last):\n",
      "  File \"/home/ismail/anaconda3/lib/python3.9/site-packages/sklearn/model_selection/_validation.py\", line 680, in _fit_and_score\n",
      "    estimator.fit(X_train, y_train, **fit_params)\n",
      "  File \"/home/ismail/anaconda3/lib/python3.9/site-packages/sklearn/linear_model/_ridge.py\", line 1011, in fit\n",
      "    return super().fit(X, y, sample_weight=sample_weight)\n",
      "  File \"/home/ismail/anaconda3/lib/python3.9/site-packages/sklearn/linear_model/_ridge.py\", line 782, in fit\n",
      "    self.coef_, self.n_iter_ = _ridge_regression(\n",
      "  File \"/home/ismail/anaconda3/lib/python3.9/site-packages/sklearn/linear_model/_ridge.py\", line 599, in _ridge_regression\n",
      "    coef = _solve_cholesky(X, y, alpha)\n",
      "  File \"/home/ismail/anaconda3/lib/python3.9/site-packages/sklearn/linear_model/_ridge.py\", line 157, in _solve_cholesky\n",
      "    return linalg.solve(A, Xy, sym_pos=True, overwrite_a=True).T\n",
      "TypeError: solve() got an unexpected keyword argument 'sym_pos'\n",
      "\n",
      "  warnings.warn(some_fits_failed_message, FitFailedWarning)\n",
      "/home/ismail/anaconda3/lib/python3.9/site-packages/sklearn/model_selection/_validation.py:372: FitFailedWarning: \n",
      "5 fits failed out of a total of 5.\n",
      "The score on these train-test partitions for these parameters will be set to nan.\n",
      "If these failures are not expected, you can try to debug them by setting error_score='raise'.\n",
      "\n",
      "Below are more details about the failures:\n",
      "--------------------------------------------------------------------------------\n",
      "5 fits failed with the following error:\n",
      "Traceback (most recent call last):\n",
      "  File \"/home/ismail/anaconda3/lib/python3.9/site-packages/sklearn/model_selection/_validation.py\", line 680, in _fit_and_score\n",
      "    estimator.fit(X_train, y_train, **fit_params)\n",
      "  File \"/home/ismail/anaconda3/lib/python3.9/site-packages/sklearn/linear_model/_ridge.py\", line 1011, in fit\n",
      "    return super().fit(X, y, sample_weight=sample_weight)\n",
      "  File \"/home/ismail/anaconda3/lib/python3.9/site-packages/sklearn/linear_model/_ridge.py\", line 782, in fit\n",
      "    self.coef_, self.n_iter_ = _ridge_regression(\n",
      "  File \"/home/ismail/anaconda3/lib/python3.9/site-packages/sklearn/linear_model/_ridge.py\", line 599, in _ridge_regression\n",
      "    coef = _solve_cholesky(X, y, alpha)\n",
      "  File \"/home/ismail/anaconda3/lib/python3.9/site-packages/sklearn/linear_model/_ridge.py\", line 157, in _solve_cholesky\n",
      "    return linalg.solve(A, Xy, sym_pos=True, overwrite_a=True).T\n",
      "TypeError: solve() got an unexpected keyword argument 'sym_pos'\n",
      "\n",
      "  warnings.warn(some_fits_failed_message, FitFailedWarning)\n",
      "/home/ismail/anaconda3/lib/python3.9/site-packages/sklearn/model_selection/_validation.py:372: FitFailedWarning: \n",
      "5 fits failed out of a total of 5.\n",
      "The score on these train-test partitions for these parameters will be set to nan.\n",
      "If these failures are not expected, you can try to debug them by setting error_score='raise'.\n",
      "\n",
      "Below are more details about the failures:\n",
      "--------------------------------------------------------------------------------\n",
      "5 fits failed with the following error:\n",
      "Traceback (most recent call last):\n",
      "  File \"/home/ismail/anaconda3/lib/python3.9/site-packages/sklearn/model_selection/_validation.py\", line 680, in _fit_and_score\n",
      "    estimator.fit(X_train, y_train, **fit_params)\n",
      "  File \"/home/ismail/anaconda3/lib/python3.9/site-packages/sklearn/linear_model/_ridge.py\", line 1011, in fit\n",
      "    return super().fit(X, y, sample_weight=sample_weight)\n",
      "  File \"/home/ismail/anaconda3/lib/python3.9/site-packages/sklearn/linear_model/_ridge.py\", line 782, in fit\n",
      "    self.coef_, self.n_iter_ = _ridge_regression(\n",
      "  File \"/home/ismail/anaconda3/lib/python3.9/site-packages/sklearn/linear_model/_ridge.py\", line 599, in _ridge_regression\n",
      "    coef = _solve_cholesky(X, y, alpha)\n",
      "  File \"/home/ismail/anaconda3/lib/python3.9/site-packages/sklearn/linear_model/_ridge.py\", line 157, in _solve_cholesky\n",
      "    return linalg.solve(A, Xy, sym_pos=True, overwrite_a=True).T\n",
      "TypeError: solve() got an unexpected keyword argument 'sym_pos'\n",
      "\n",
      "  warnings.warn(some_fits_failed_message, FitFailedWarning)\n"
     ]
    }
   ],
   "source": [
    "alphas = [0.05, 0.1, 0.3, 1, 3, 5, 10, 15, 30, 50, 75]\n",
    "cv_ridge = [rmse_cv(Ridge(alpha = alpha)).mean() \n",
    "            for alpha in alphas]"
   ]
  },
  {
   "cell_type": "code",
   "execution_count": 15,
   "id": "94b0d14c",
   "metadata": {
    "_cell_guid": "f8cf53ba-8441-9233-b7f5-a851d270b770",
    "execution": {
     "iopub.execute_input": "2023-08-11T01:56:49.819983Z",
     "iopub.status.busy": "2023-08-11T01:56:49.818466Z",
     "iopub.status.idle": "2023-08-11T01:56:50.126392Z",
     "shell.execute_reply": "2023-08-11T01:56:50.125148Z"
    },
    "papermill": {
     "duration": 0.361131,
     "end_time": "2023-08-11T01:56:50.129442",
     "exception": false,
     "start_time": "2023-08-11T01:56:49.768311",
     "status": "completed"
    },
    "tags": []
   },
   "outputs": [
    {
     "data": {
      "text/plain": [
       "Text(0, 0.5, 'rmse')"
      ]
     },
     "execution_count": 15,
     "metadata": {},
     "output_type": "execute_result"
    },
    {
     "data": {
      "image/png": "[encoded data removed]",
      "text/plain": [
       "<Figure size 864x432 with 1 Axes>"
      ]
     },
     "metadata": {
      "image/png": {
       "height": 386,
       "width": 735
      },
      "needs_background": "light"
     },
     "output_type": "display_data"
    }
   ],
   "source": [
    "cv_ridge = pd.Series(cv_ridge, index = alphas)\n",
    "cv_ridge.plot(title = \"Validation - Just Do It\")\n",
    "plt.xlabel(\"alpha\")\n",
    "plt.ylabel(\"rmse\")"
   ]
  },
  {
   "cell_type": "markdown",
   "id": "19e42f50",
   "metadata": {
    "_cell_guid": "37486402-4a48-912f-84ee-a3611334b133",
    "papermill": {
     "duration": 0.011459,
     "end_time": "2023-08-11T01:56:50.152811",
     "exception": false,
     "start_time": "2023-08-11T01:56:50.141352",
     "status": "completed"
    },
    "tags": []
   },
   "source": [
    "Note the U-ish shaped curve above. When alpha is too large the regularization is too strong and the model cannot capture all the complexities in the data. If however we let the model be too flexible (alpha small) the model begins to overfit. A value of alpha = 10 is about right based on the plot above."
   ]
  },
  {
   "cell_type": "code",
   "execution_count": 16,
   "id": "ad581710",
   "metadata": {
    "_cell_guid": "d42c18c9-ee70-929f-ce63-aac7f77796cc",
    "execution": {
     "iopub.execute_input": "2023-08-11T01:56:50.178510Z",
     "iopub.status.busy": "2023-08-11T01:56:50.178041Z",
     "iopub.status.idle": "2023-08-11T01:56:50.186043Z",
     "shell.execute_reply": "2023-08-11T01:56:50.184742Z"
    },
    "papermill": {
     "duration": 0.023962,
     "end_time": "2023-08-11T01:56:50.188474",
     "exception": false,
     "start_time": "2023-08-11T01:56:50.164512",
     "status": "completed"
    },
    "tags": []
   },
   "outputs": [
    {
     "data": {
      "text/plain": [
       "nan"
      ]
     },
     "execution_count": 16,
     "metadata": {},
     "output_type": "execute_result"
    }
   ],
   "source": [
    "cv_ridge.min()"
   ]
  },
  {
   "cell_type": "markdown",
   "id": "93f90614",
   "metadata": {
    "_cell_guid": "863fb699-7bcd-3748-3dbb-1c9b18afee9b",
    "papermill": {
     "duration": 0.011573,
     "end_time": "2023-08-11T01:56:50.211776",
     "exception": false,
     "start_time": "2023-08-11T01:56:50.200203",
     "status": "completed"
    },
    "tags": []
   },
   "source": [
    "So for the Ridge regression we get a rmsle of about 0.127\n",
    "\n",
    "Let' try out the Lasso model. We will do a slightly different approach here and use the built in Lasso CV to figure out the best alpha for us. For some reason the alphas in Lasso CV are really the inverse or the alphas in Ridge."
   ]
  },
  {
   "cell_type": "code",
   "execution_count": 15,
   "id": "ca44aa11",
   "metadata": {
    "_cell_guid": "8204520c-a595-2ad2-4685-0b84cc662b84",
    "execution": {
     "iopub.execute_input": "2023-08-11T01:56:50.237638Z",
     "iopub.status.busy": "2023-08-11T01:56:50.236791Z",
     "iopub.status.idle": "2023-08-11T01:56:50.432027Z",
     "shell.execute_reply": "2023-08-11T01:56:50.430689Z"
    },
    "papermill": {
     "duration": 0.212076,
     "end_time": "2023-08-11T01:56:50.435584",
     "exception": false,
     "start_time": "2023-08-11T01:56:50.223508",
     "status": "completed"
    },
    "tags": []
   },
   "outputs": [],
   "source": [
    "model_lasso = LassoCV(alphas = [1, 0.1, 0.001, 0.0005]).fit(X_train, y)"
   ]
  },
  {
   "cell_type": "code",
   "execution_count": 16,
   "id": "2aee78c7",
   "metadata": {
    "_cell_guid": "e78e6126-4de0-08ad-250b-46a3f0f48de0",
    "execution": {
     "iopub.execute_input": "2023-08-11T01:56:50.486144Z",
     "iopub.status.busy": "2023-08-11T01:56:50.485522Z",
     "iopub.status.idle": "2023-08-11T01:56:51.598862Z",
     "shell.execute_reply": "2023-08-11T01:56:51.597142Z"
    },
    "papermill": {
     "duration": 1.141798,
     "end_time": "2023-08-11T01:56:51.604688",
     "exception": false,
     "start_time": "2023-08-11T01:56:50.462890",
     "status": "completed"
    },
    "tags": []
   },
   "outputs": [
    {
     "data": {
      "text/plain": [
       "0.12256735885048131"
      ]
     },
     "execution_count": 16,
     "metadata": {},
     "output_type": "execute_result"
    }
   ],
   "source": [
    "rmse_cv(model_lasso).mean()"
   ]
  },
  {
   "cell_type": "markdown",
   "id": "b4ac1297",
   "metadata": {
    "_cell_guid": "abc5f43e-1c38-4c1e-cb70-a95c8d9be8de",
    "papermill": {
     "duration": 0.054808,
     "end_time": "2023-08-11T01:56:51.693471",
     "exception": false,
     "start_time": "2023-08-11T01:56:51.638663",
     "status": "completed"
    },
    "tags": []
   },
   "source": [
    "Nice! The lasso performs even better so we'll just use this one to predict on the test set. Another neat thing about the Lasso is that it does feature selection for you - setting coefficients of features it deems unimportant to zero. Let's take a look at the coefficients:"
   ]
  },
  {
   "cell_type": "code",
   "execution_count": 17,
   "id": "e91a78e0",
   "metadata": {
    "_cell_guid": "c7be87ca-412a-cb19-1524-cd94cf698d44",
    "execution": {
     "iopub.execute_input": "2023-08-11T01:56:51.724000Z",
     "iopub.status.busy": "2023-08-11T01:56:51.723552Z",
     "iopub.status.idle": "2023-08-11T01:56:51.728540Z",
     "shell.execute_reply": "2023-08-11T01:56:51.727636Z"
    },
    "papermill": {
     "duration": 0.021378,
     "end_time": "2023-08-11T01:56:51.730668",
     "exception": false,
     "start_time": "2023-08-11T01:56:51.709290",
     "status": "completed"
    },
    "tags": []
   },
   "outputs": [],
   "source": [
    "coef = pd.Series(model_lasso.coef_, index = X_train.columns)"
   ]
  },
  {
   "cell_type": "code",
   "execution_count": 18,
   "id": "97c61dad",
   "metadata": {
    "_cell_guid": "14be641e-bbe0-824d-d90f-f47698c8b5c5",
    "execution": {
     "iopub.execute_input": "2023-08-11T01:56:51.758299Z",
     "iopub.status.busy": "2023-08-11T01:56:51.757449Z",
     "iopub.status.idle": "2023-08-11T01:56:51.764501Z",
     "shell.execute_reply": "2023-08-11T01:56:51.763465Z"
    },
    "papermill": {
     "duration": 0.023857,
     "end_time": "2023-08-11T01:56:51.767438",
     "exception": false,
     "start_time": "2023-08-11T01:56:51.743581",
     "status": "completed"
    },
    "tags": []
   },
   "outputs": [
    {
     "name": "stdout",
     "output_type": "stream",
     "text": [
      "Lasso picked 110 variables and eliminated the other 178 variables\n"
     ]
    }
   ],
   "source": [
    "print(\"Lasso picked \" + str(sum(coef != 0)) + \" variables and eliminated the other \" +  str(sum(coef == 0)) + \" variables\")"
   ]
  },
  {
   "cell_type": "markdown",
   "id": "04a03370",
   "metadata": {
    "_cell_guid": "ca153134-b109-1afc-e066-44273f65d44c",
    "papermill": {
     "duration": 0.011845,
     "end_time": "2023-08-11T01:56:51.791570",
     "exception": false,
     "start_time": "2023-08-11T01:56:51.779725",
     "status": "completed"
    },
    "tags": []
   },
   "source": [
    "Good job Lasso.  One thing to note here however is that the features selected are not necessarily the \"correct\" ones - especially since there are a lot of collinear features in this dataset. One idea to try here is run Lasso a few times on boostrapped samples and see how stable the feature selection is."
   ]
  },
  {
   "cell_type": "markdown",
   "id": "f4daac59",
   "metadata": {
    "_cell_guid": "632e23a8-948f-c692-f5e9-1aa8a75f21d5",
    "papermill": {
     "duration": 0.012831,
     "end_time": "2023-08-11T01:56:51.816288",
     "exception": false,
     "start_time": "2023-08-11T01:56:51.803457",
     "status": "completed"
    },
    "tags": []
   },
   "source": [
    "We can also take a look directly at what the most important coefficients are:"
   ]
  },
  {
   "cell_type": "code",
   "execution_count": 19,
   "id": "a505f9f8",
   "metadata": {
    "_cell_guid": "3efc02df-c877-b1fe-1807-5dd93c896c63",
    "execution": {
     "iopub.execute_input": "2023-08-11T01:56:51.842532Z",
     "iopub.status.busy": "2023-08-11T01:56:51.842048Z",
     "iopub.status.idle": "2023-08-11T01:56:51.848786Z",
     "shell.execute_reply": "2023-08-11T01:56:51.847518Z"
    },
    "papermill": {
     "duration": 0.023157,
     "end_time": "2023-08-11T01:56:51.851544",
     "exception": false,
     "start_time": "2023-08-11T01:56:51.828387",
     "status": "completed"
    },
    "tags": []
   },
   "outputs": [],
   "source": [
    "imp_coef = pd.concat([coef.sort_values().head(10),\n",
    "                     coef.sort_values().tail(10)])"
   ]
  },
  {
   "cell_type": "code",
   "execution_count": 20,
   "id": "25898f6a",
   "metadata": {
    "_cell_guid": "87317789-6e7e-d57f-0b54-d8ba0ee26abf",
    "execution": {
     "iopub.execute_input": "2023-08-11T01:56:51.878068Z",
     "iopub.status.busy": "2023-08-11T01:56:51.877609Z",
     "iopub.status.idle": "2023-08-11T01:56:52.388628Z",
     "shell.execute_reply": "2023-08-11T01:56:52.387183Z"
    },
    "papermill": {
     "duration": 0.527132,
     "end_time": "2023-08-11T01:56:52.391118",
     "exception": false,
     "start_time": "2023-08-11T01:56:51.863986",
     "status": "completed"
    },
    "tags": []
   },
   "outputs": [
    {
     "data": {
      "text/plain": [
       "Text(0.5, 1.0, 'Coefficients in the Lasso Model')"
      ]
     },
     "execution_count": 20,
     "metadata": {},
     "output_type": "execute_result"
    },
    {
     "data": {
      "image/png": "[encoded data removed]",
      "text/plain": [
       "<Figure size 576x720 with 1 Axes>"
      ]
     },
     "metadata": {
      "image/png": {
       "height": 590,
       "width": 586
      },
      "needs_background": "light"
     },
     "output_type": "display_data"
    }
   ],
   "source": [
    "matplotlib.rcParams['figure.figsize'] = (8.0, 10.0)\n",
    "imp_coef.plot(kind = \"barh\")\n",
    "plt.title(\"Coefficients in the Lasso Model\")"
   ]
  },
  {
   "cell_type": "markdown",
   "id": "c14cd9ca",
   "metadata": {
    "_cell_guid": "f6e6f820-1ec6-4a69-c309-9992b80652da",
    "papermill": {
     "duration": 0.012925,
     "end_time": "2023-08-11T01:56:52.417633",
     "exception": false,
     "start_time": "2023-08-11T01:56:52.404708",
     "status": "completed"
    },
    "tags": []
   },
   "source": [
    "The most important positive feature is `GrLivArea` -  the above ground area by area square feet. This definitely make sense. Then a few other  location and quality features contributed positively. Some of the negative features make less sense and would be worth looking into more - it seems like they might come from unbalanced categorical variables.\n",
    "\n",
    "Also note that unlike the feature importance you'd get from a random forest these are _actual_ coefficients in your model - so you can say precisely why the predicted price is what it is. The only issue here is that we log_transformed both the target and the numeric features so the actual magnitudes are a bit hard to interpret and also the relationship is now multiplicative not additive. "
   ]
  },
  {
   "cell_type": "code",
   "execution_count": 21,
   "id": "45264792",
   "metadata": {
    "_cell_guid": "cdeaa3d3-f9ad-2e06-1339-61b4425a43f8",
    "execution": {
     "iopub.execute_input": "2023-08-11T01:56:52.446973Z",
     "iopub.status.busy": "2023-08-11T01:56:52.446519Z",
     "iopub.status.idle": "2023-08-11T01:56:52.800709Z",
     "shell.execute_reply": "2023-08-11T01:56:52.799252Z"
    },
    "papermill": {
     "duration": 0.371931,
     "end_time": "2023-08-11T01:56:52.803564",
     "exception": false,
     "start_time": "2023-08-11T01:56:52.431633",
     "status": "completed"
    },
    "tags": []
   },
   "outputs": [
    {
     "data": {
      "text/plain": [
       "<AxesSubplot:xlabel='preds', ylabel='residuals'>"
      ]
     },
     "execution_count": 21,
     "metadata": {},
     "output_type": "execute_result"
    },
    {
     "data": {
      "image/png": "[encoded data removed]",
      "text/plain": [
       "<Figure size 432x432 with 1 Axes>"
      ]
     },
     "metadata": {
      "image/png": {
       "height": 370,
       "width": 394
      },
      "needs_background": "light"
     },
     "output_type": "display_data"
    }
   ],
   "source": [
    "\n",
    "matplotlib.rcParams['figure.figsize'] = (6.0, 6.0)\n",
    "\n",
    "preds = pd.DataFrame({\"preds\":model_lasso.predict(X_train), \"true\":y})\n",
    "preds[\"residuals\"] = preds[\"true\"] - preds[\"preds\"]\n",
    "preds.plot(x = \"preds\", y = \"residuals\",kind = \"scatter\")"
   ]
  },
  {
   "cell_type": "markdown",
   "id": "df2e47f4",
   "metadata": {
    "_cell_guid": "4780532e-2815-e355-9a96-fb1c598f6984",
    "papermill": {
     "duration": 0.01393,
     "end_time": "2023-08-11T01:56:52.832086",
     "exception": false,
     "start_time": "2023-08-11T01:56:52.818156",
     "status": "completed"
    },
    "tags": []
   },
   "source": [
    "The residual plot looks pretty good.To wrap it up let's predict on the test set and submit on the leaderboard:"
   ]
  },
  {
   "cell_type": "markdown",
   "id": "fb4d4135",
   "metadata": {
    "_cell_guid": "f8da43e0-fd51-a4c9-d9b2-364d9911699a",
    "papermill": {
     "duration": 0.013934,
     "end_time": "2023-08-11T01:56:52.860237",
     "exception": false,
     "start_time": "2023-08-11T01:56:52.846303",
     "status": "completed"
    },
    "tags": []
   },
   "source": [
    "### Adding an xgboost model:"
   ]
  },
  {
   "cell_type": "markdown",
   "id": "6810eab9",
   "metadata": {
    "_cell_guid": "ae9bcc1a-5106-0909-ecf7-0abc2d2ca386",
    "papermill": {
     "duration": 0.014383,
     "end_time": "2023-08-11T01:56:52.888878",
     "exception": false,
     "start_time": "2023-08-11T01:56:52.874495",
     "status": "completed"
    },
    "tags": []
   },
   "source": [
    "Let's add an xgboost model to our linear model to see if we can improve our score:"
   ]
  },
  {
   "cell_type": "code",
   "execution_count": 22,
   "id": "61574d2e",
   "metadata": {
    "_cell_guid": "654e4fcf-a049-921a-4783-3c6d6dcca673",
    "execution": {
     "iopub.execute_input": "2023-08-11T01:56:52.920066Z",
     "iopub.status.busy": "2023-08-11T01:56:52.919656Z",
     "iopub.status.idle": "2023-08-11T01:56:53.033787Z",
     "shell.execute_reply": "2023-08-11T01:56:53.032324Z"
    },
    "papermill": {
     "duration": 0.133398,
     "end_time": "2023-08-11T01:56:53.036698",
     "exception": false,
     "start_time": "2023-08-11T01:56:52.903300",
     "status": "completed"
    },
    "tags": []
   },
   "outputs": [],
   "source": [
    "import xgboost as xgb"
   ]
  },
  {
   "cell_type": "code",
   "execution_count": 23,
   "id": "980fd14e",
   "metadata": {
    "_cell_guid": "be53a9f8-d88b-05fb-734d-3a1388d39864",
    "execution": {
     "iopub.execute_input": "2023-08-11T01:56:53.067310Z",
     "iopub.status.busy": "2023-08-11T01:56:53.066831Z",
     "iopub.status.idle": "2023-08-11T01:57:09.335083Z",
     "shell.execute_reply": "2023-08-11T01:57:09.334048Z"
    },
    "papermill": {
     "duration": 16.286759,
     "end_time": "2023-08-11T01:57:09.337831",
     "exception": false,
     "start_time": "2023-08-11T01:56:53.051072",
     "status": "completed"
    },
    "tags": []
   },
   "outputs": [],
   "source": [
    "\n",
    "dtrain = xgb.DMatrix(X_train, label = y)\n",
    "dtest = xgb.DMatrix(X_test)\n",
    "\n",
    "params = {\"max_depth\":2, \"eta\":0.1}\n",
    "model = xgb.cv(params, dtrain,  num_boost_round=500, early_stopping_rounds=100)"
   ]
  },
  {
   "cell_type": "code",
   "execution_count": 24,
   "id": "ad14a71e",
   "metadata": {
    "_cell_guid": "c9d5bfe5-a0a8-0b10-d54a-1dfbb6123bd0",
    "execution": {
     "iopub.execute_input": "2023-08-11T01:57:09.371020Z",
     "iopub.status.busy": "2023-08-11T01:57:09.369898Z",
     "iopub.status.idle": "2023-08-11T01:57:09.675118Z",
     "shell.execute_reply": "2023-08-11T01:57:09.673912Z"
    },
    "papermill": {
     "duration": 0.324651,
     "end_time": "2023-08-11T01:57:09.677758",
     "exception": false,
     "start_time": "2023-08-11T01:57:09.353107",
     "status": "completed"
    },
    "tags": []
   },
   "outputs": [
    {
     "data": {
      "text/plain": [
       "<AxesSubplot:>"
      ]
     },
     "execution_count": 24,
     "metadata": {},
     "output_type": "execute_result"
    },
    {
     "data": {
      "image/png": "[encoded data removed]",
      "text/plain": [
       "<Figure size 432x432 with 1 Axes>"
      ]
     },
     "metadata": {
      "image/png": {
       "height": 360,
       "width": 372
      },
      "needs_background": "light"
     },
     "output_type": "display_data"
    }
   ],
   "source": [
    "model.loc[30:,[\"test-rmse-mean\", \"train-rmse-mean\"]].plot()"
   ]
  },
  {
   "cell_type": "code",
   "execution_count": 25,
   "id": "18720e3e",
   "metadata": {
    "_cell_guid": "00b8a271-0f93-c757-7e33-516c3a297628",
    "execution": {
     "iopub.execute_input": "2023-08-11T01:57:09.712268Z",
     "iopub.status.busy": "2023-08-11T01:57:09.711479Z",
     "iopub.status.idle": "2023-08-11T01:57:12.235561Z",
     "shell.execute_reply": "2023-08-11T01:57:12.234704Z"
    },
    "papermill": {
     "duration": 2.543545,
     "end_time": "2023-08-11T01:57:12.237786",
     "exception": false,
     "start_time": "2023-08-11T01:57:09.694241",
     "status": "completed"
    },
    "tags": []
   },
   "outputs": [
    {
     "data": {
      "text/plain": [
       "XGBRegressor(base_score=0.5, booster='gbtree', callbacks=None,\n",
       "             colsample_bylevel=1, colsample_bynode=1, colsample_bytree=1,\n",
       "             early_stopping_rounds=None, enable_categorical=False,\n",
       "             eval_metric=None, gamma=0, gpu_id=-1, grow_policy='depthwise',\n",
       "             importance_type=None, interaction_constraints='',\n",
       "             learning_rate=0.1, max_bin=256, max_cat_to_onehot=4,\n",
       "             max_delta_step=0, max_depth=2, max_leaves=0, min_child_weight=1,\n",
       "             missing=nan, monotone_constraints='()', n_estimators=360, n_jobs=0,\n",
       "             num_parallel_tree=1, predictor='auto', random_state=0, reg_alpha=0,\n",
       "             reg_lambda=1, ...)"
      ]
     },
     "execution_count": 25,
     "metadata": {},
     "output_type": "execute_result"
    }
   ],
   "source": [
    "model_xgb = xgb.XGBRegressor(n_estimators=360, max_depth=2, learning_rate=0.1) #the params were tuned using xgb.cv\n",
    "model_xgb.fit(X_train, y)"
   ]
  },
  {
   "cell_type": "code",
   "execution_count": 26,
   "id": "c80ca754",
   "metadata": {
    "_cell_guid": "2b87a004-3a9a-77cc-4b5b-6540f870c028",
    "execution": {
     "iopub.execute_input": "2023-08-11T01:57:12.270926Z",
     "iopub.status.busy": "2023-08-11T01:57:12.270045Z",
     "iopub.status.idle": "2023-08-11T01:57:12.304763Z",
     "shell.execute_reply": "2023-08-11T01:57:12.303556Z"
    },
    "papermill": {
     "duration": 0.054387,
     "end_time": "2023-08-11T01:57:12.307521",
     "exception": false,
     "start_time": "2023-08-11T01:57:12.253134",
     "status": "completed"
    },
    "tags": []
   },
   "outputs": [],
   "source": [
    "xgb_preds = np.expm1(model_xgb.predict(X_test))\n",
    "lasso_preds = np.expm1(model_lasso.predict(X_test))"
   ]
  },
  {
   "cell_type": "code",
   "execution_count": 27,
   "id": "db733dec",
   "metadata": {
    "_cell_guid": "1c9c640b-9e6c-a350-0691-7f6a7dc19c41",
    "execution": {
     "iopub.execute_input": "2023-08-11T01:57:12.364257Z",
     "iopub.status.busy": "2023-08-11T01:57:12.363431Z",
     "iopub.status.idle": "2023-08-11T01:57:12.672804Z",
     "shell.execute_reply": "2023-08-11T01:57:12.671588Z"
    },
    "papermill": {
     "duration": 0.341332,
     "end_time": "2023-08-11T01:57:12.675368",
     "exception": false,
     "start_time": "2023-08-11T01:57:12.334036",
     "status": "completed"
    },
    "tags": []
   },
   "outputs": [
    {
     "data": {
      "text/plain": [
       "<AxesSubplot:xlabel='xgb', ylabel='lasso'>"
      ]
     },
     "execution_count": 27,
     "metadata": {},
     "output_type": "execute_result"
    },
    {
     "data": {
      "image/png": "[encoded data removed]",
      "text/plain": [
       "<Figure size 432x432 with 1 Axes>"
      ]
     },
     "metadata": {
      "image/png": {
       "height": 370,
       "width": 408
      },
      "needs_background": "light"
     },
     "output_type": "display_data"
    }
   ],
   "source": [
    "predictions = pd.DataFrame({\"xgb\":xgb_preds, \"lasso\":lasso_preds})\n",
    "predictions.plot(x = \"xgb\", y = \"lasso\", kind = \"scatter\")"
   ]
  },
  {
   "cell_type": "markdown",
   "id": "9713fb72",
   "metadata": {
    "_cell_guid": "74c9bdd2-afbb-5fdf-a776-a8eebfa30d12",
    "papermill": {
     "duration": 0.016138,
     "end_time": "2023-08-11T01:57:12.708401",
     "exception": false,
     "start_time": "2023-08-11T01:57:12.692263",
     "status": "completed"
    },
    "tags": []
   },
   "source": [
    "Many times it makes sense to take a weighted average of uncorrelated results - this usually imporoves the score although in this case it doesn't help that much. Here we will just do a weighted average based on some randomly picked value. We could also do a CV grid search here as well."
   ]
  },
  {
   "cell_type": "code",
   "execution_count": 28,
   "id": "2abebbad",
   "metadata": {
    "_cell_guid": "623ed0fe-0150-5226-db27-90a321061d52",
    "execution": {
     "iopub.execute_input": "2023-08-11T01:57:12.743194Z",
     "iopub.status.busy": "2023-08-11T01:57:12.742725Z",
     "iopub.status.idle": "2023-08-11T01:57:12.749137Z",
     "shell.execute_reply": "2023-08-11T01:57:12.747918Z"
    },
    "papermill": {
     "duration": 0.027031,
     "end_time": "2023-08-11T01:57:12.751782",
     "exception": false,
     "start_time": "2023-08-11T01:57:12.724751",
     "status": "completed"
    },
    "tags": []
   },
   "outputs": [],
   "source": [
    "preds = 0.7*lasso_preds + 0.3*xgb_preds"
   ]
  },
  {
   "cell_type": "code",
   "execution_count": 29,
   "id": "a41fce8c",
   "metadata": {
    "_cell_guid": "569d7154-e3b5-84ab-1d28-57bdc02955d9",
    "execution": {
     "iopub.execute_input": "2023-08-11T01:57:12.786991Z",
     "iopub.status.busy": "2023-08-11T01:57:12.786199Z",
     "iopub.status.idle": "2023-08-11T01:57:12.799648Z",
     "shell.execute_reply": "2023-08-11T01:57:12.798581Z"
    },
    "papermill": {
     "duration": 0.033853,
     "end_time": "2023-08-11T01:57:12.802286",
     "exception": false,
     "start_time": "2023-08-11T01:57:12.768433",
     "status": "completed"
    },
    "tags": []
   },
   "outputs": [],
   "source": [
    "solution = pd.DataFrame({\"id\":test.Id, \"SalePrice\":preds})\n",
    "solution.to_csv(\"ridge_sol.csv\", index = False)"
   ]
  }
 ],
 "metadata": {
  "kernelspec": {
   "display_name": "Python 3 (ipykernel)",
   "language": "python",
   "name": "python3"
  },
  "language_info": {
   "codemirror_mode": {
    "name": "ipython",
    "version": 3
   },
   "file_extension": ".py",
   "mimetype": "text/x-python",
   "name": "python",
   "nbconvert_exporter": "python",
   "pygments_lexer": "ipython3",
   "version": "3.9.12"
  },
  "papermill": {
   "default_parameters": {},
   "duration": 39.825724,
   "end_time": "2023-08-11T01:57:13.642137",
   "environment_variables": {},
   "exception": null,
   "input_path": "__notebook__.ipynb",
   "output_path": "__notebook__.ipynb",
   "parameters": {},
   "start_time": "2023-08-11T01:56:33.816413",
   "version": "2.3.4"
  }
 },
 "nbformat": 4,
 "nbformat_minor": 5
}
